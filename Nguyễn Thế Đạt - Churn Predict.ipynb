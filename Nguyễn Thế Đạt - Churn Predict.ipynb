{
 "cells": [
  {
   "cell_type": "code",
   "execution_count": 55,
   "id": "fea12d00-6ec1-42fd-8e0a-fc196fddb112",
   "metadata": {},
   "outputs": [
    {
     "ename": "TypeError",
     "evalue": "unsupported operand type(s) for +: 'set' and 'tuple'",
     "output_type": "error",
     "traceback": [
      "\u001b[1;31m---------------------------------------------------------------------------\u001b[0m",
      "\u001b[1;31mTypeError\u001b[0m                                 Traceback (most recent call last)",
      "Cell \u001b[1;32mIn[55], line 2\u001b[0m\n\u001b[0;32m      1\u001b[0m my_tuple \u001b[38;5;241m=\u001b[39m {\u001b[38;5;241m1\u001b[39m,\u001b[38;5;241m2\u001b[39m,\u001b[38;5;241m3\u001b[39m}\n\u001b[1;32m----> 2\u001b[0m my_tuple \u001b[38;5;241m=\u001b[39m my_tuple \u001b[38;5;241m+\u001b[39m (\u001b[38;5;241m4\u001b[39m,\u001b[38;5;241m5\u001b[39m)\n\u001b[0;32m      3\u001b[0m my_tuple\n",
      "\u001b[1;31mTypeError\u001b[0m: unsupported operand type(s) for +: 'set' and 'tuple'"
     ]
    }
   ],
   "source": [
    "my_set = {1,2,3}\n",
    "if 1 "
   ]
  },
  {
   "cell_type": "code",
   "execution_count": 54,
   "id": "b5f53f90-248d-423e-ad19-7e4d5bd6a396",
   "metadata": {},
   "outputs": [
    {
     "ename": "SyntaxError",
     "evalue": "incomplete input (515937610.py, line 1)",
     "output_type": "error",
     "traceback": [
      "\u001b[1;36m  Cell \u001b[1;32mIn[54], line 1\u001b[1;36m\u001b[0m\n\u001b[1;33m    if my_set.contains(1):\u001b[0m\n\u001b[1;37m                          ^\u001b[0m\n\u001b[1;31mSyntaxError\u001b[0m\u001b[1;31m:\u001b[0m incomplete input\n"
     ]
    }
   ],
   "source": []
  },
  {
   "cell_type": "code",
   "execution_count": 1,
   "id": "d0695c9e-ef2c-478a-9c5c-4e3fe9b85f21",
   "metadata": {
    "collapsed": true,
    "jupyter": {
     "outputs_hidden": true
    },
    "tags": []
   },
   "outputs": [
    {
     "ename": "ImportError",
     "evalue": "DLL load failed while importing _imaging: The specified module could not be found.",
     "output_type": "error",
     "traceback": [
      "\u001b[1;31m---------------------------------------------------------------------------\u001b[0m",
      "\u001b[1;31mImportError\u001b[0m                               Traceback (most recent call last)",
      "Cell \u001b[1;32mIn[1], line 2\u001b[0m\n\u001b[0;32m      1\u001b[0m \u001b[38;5;28;01mimport\u001b[39;00m \u001b[38;5;21;01mpandas\u001b[39;00m \u001b[38;5;28;01mas\u001b[39;00m \u001b[38;5;21;01mpd\u001b[39;00m\n\u001b[1;32m----> 2\u001b[0m \u001b[38;5;28;01mimport\u001b[39;00m \u001b[38;5;21;01mseaborn\u001b[39;00m \u001b[38;5;28;01mas\u001b[39;00m \u001b[38;5;21;01msns\u001b[39;00m\n\u001b[0;32m      3\u001b[0m \u001b[38;5;28;01mimport\u001b[39;00m \u001b[38;5;21;01mmatplotlib\u001b[39;00m\u001b[38;5;21;01m.\u001b[39;00m\u001b[38;5;21;01mpyplot\u001b[39;00m \u001b[38;5;28;01mas\u001b[39;00m \u001b[38;5;21;01mplt\u001b[39;00m\n\u001b[0;32m      4\u001b[0m \u001b[38;5;28;01mimport\u001b[39;00m \u001b[38;5;21;01mnumpy\u001b[39;00m \u001b[38;5;28;01mas\u001b[39;00m \u001b[38;5;21;01mnp\u001b[39;00m\n",
      "File \u001b[1;32m~\\anaconda3\\envs\\pandas_playground\\Lib\\site-packages\\seaborn\\__init__.py:2\u001b[0m\n\u001b[0;32m      1\u001b[0m \u001b[38;5;66;03m# Import seaborn objects\u001b[39;00m\n\u001b[1;32m----> 2\u001b[0m \u001b[38;5;28;01mfrom\u001b[39;00m \u001b[38;5;21;01m.\u001b[39;00m\u001b[38;5;21;01mrcmod\u001b[39;00m \u001b[38;5;28;01mimport\u001b[39;00m \u001b[38;5;241m*\u001b[39m  \u001b[38;5;66;03m# noqa: F401,F403\u001b[39;00m\n\u001b[0;32m      3\u001b[0m \u001b[38;5;28;01mfrom\u001b[39;00m \u001b[38;5;21;01m.\u001b[39;00m\u001b[38;5;21;01mutils\u001b[39;00m \u001b[38;5;28;01mimport\u001b[39;00m \u001b[38;5;241m*\u001b[39m  \u001b[38;5;66;03m# noqa: F401,F403\u001b[39;00m\n\u001b[0;32m      4\u001b[0m \u001b[38;5;28;01mfrom\u001b[39;00m \u001b[38;5;21;01m.\u001b[39;00m\u001b[38;5;21;01mpalettes\u001b[39;00m \u001b[38;5;28;01mimport\u001b[39;00m \u001b[38;5;241m*\u001b[39m  \u001b[38;5;66;03m# noqa: F401,F403\u001b[39;00m\n",
      "File \u001b[1;32m~\\anaconda3\\envs\\pandas_playground\\Lib\\site-packages\\seaborn\\rcmod.py:3\u001b[0m\n\u001b[0;32m      1\u001b[0m \u001b[38;5;124;03m\"\"\"Control plot style and scaling using the matplotlib rcParams interface.\"\"\"\u001b[39;00m\n\u001b[0;32m      2\u001b[0m \u001b[38;5;28;01mimport\u001b[39;00m \u001b[38;5;21;01mfunctools\u001b[39;00m\n\u001b[1;32m----> 3\u001b[0m \u001b[38;5;28;01mimport\u001b[39;00m \u001b[38;5;21;01mmatplotlib\u001b[39;00m \u001b[38;5;28;01mas\u001b[39;00m \u001b[38;5;21;01mmpl\u001b[39;00m\n\u001b[0;32m      4\u001b[0m \u001b[38;5;28;01mfrom\u001b[39;00m \u001b[38;5;21;01mcycler\u001b[39;00m \u001b[38;5;28;01mimport\u001b[39;00m cycler\n\u001b[0;32m      5\u001b[0m \u001b[38;5;28;01mfrom\u001b[39;00m \u001b[38;5;21;01m.\u001b[39;00m \u001b[38;5;28;01mimport\u001b[39;00m palettes\n",
      "File \u001b[1;32m~\\anaconda3\\envs\\pandas_playground\\Lib\\site-packages\\matplotlib\\__init__.py:161\u001b[0m\n\u001b[0;32m    157\u001b[0m \u001b[38;5;28;01mfrom\u001b[39;00m \u001b[38;5;21;01mpackaging\u001b[39;00m\u001b[38;5;21;01m.\u001b[39;00m\u001b[38;5;21;01mversion\u001b[39;00m \u001b[38;5;28;01mimport\u001b[39;00m parse \u001b[38;5;28;01mas\u001b[39;00m parse_version\n\u001b[0;32m    159\u001b[0m \u001b[38;5;66;03m# cbook must import matplotlib only within function\u001b[39;00m\n\u001b[0;32m    160\u001b[0m \u001b[38;5;66;03m# definitions, so it is safe to import from it here.\u001b[39;00m\n\u001b[1;32m--> 161\u001b[0m \u001b[38;5;28;01mfrom\u001b[39;00m \u001b[38;5;21;01m.\u001b[39;00m \u001b[38;5;28;01mimport\u001b[39;00m _api, _version, cbook, _docstring, rcsetup\n\u001b[0;32m    162\u001b[0m \u001b[38;5;28;01mfrom\u001b[39;00m \u001b[38;5;21;01mmatplotlib\u001b[39;00m\u001b[38;5;21;01m.\u001b[39;00m\u001b[38;5;21;01mcbook\u001b[39;00m \u001b[38;5;28;01mimport\u001b[39;00m sanitize_sequence\n\u001b[0;32m    163\u001b[0m \u001b[38;5;28;01mfrom\u001b[39;00m \u001b[38;5;21;01mmatplotlib\u001b[39;00m\u001b[38;5;21;01m.\u001b[39;00m\u001b[38;5;21;01m_api\u001b[39;00m \u001b[38;5;28;01mimport\u001b[39;00m MatplotlibDeprecationWarning\n",
      "File \u001b[1;32m~\\anaconda3\\envs\\pandas_playground\\Lib\\site-packages\\matplotlib\\rcsetup.py:27\u001b[0m\n\u001b[0;32m     25\u001b[0m \u001b[38;5;28;01mfrom\u001b[39;00m \u001b[38;5;21;01mmatplotlib\u001b[39;00m \u001b[38;5;28;01mimport\u001b[39;00m _api, cbook\n\u001b[0;32m     26\u001b[0m \u001b[38;5;28;01mfrom\u001b[39;00m \u001b[38;5;21;01mmatplotlib\u001b[39;00m\u001b[38;5;21;01m.\u001b[39;00m\u001b[38;5;21;01mcbook\u001b[39;00m \u001b[38;5;28;01mimport\u001b[39;00m ls_mapper\n\u001b[1;32m---> 27\u001b[0m \u001b[38;5;28;01mfrom\u001b[39;00m \u001b[38;5;21;01mmatplotlib\u001b[39;00m\u001b[38;5;21;01m.\u001b[39;00m\u001b[38;5;21;01mcolors\u001b[39;00m \u001b[38;5;28;01mimport\u001b[39;00m Colormap, is_color_like\n\u001b[0;32m     28\u001b[0m \u001b[38;5;28;01mfrom\u001b[39;00m \u001b[38;5;21;01mmatplotlib\u001b[39;00m\u001b[38;5;21;01m.\u001b[39;00m\u001b[38;5;21;01m_fontconfig_pattern\u001b[39;00m \u001b[38;5;28;01mimport\u001b[39;00m parse_fontconfig_pattern\n\u001b[0;32m     29\u001b[0m \u001b[38;5;28;01mfrom\u001b[39;00m \u001b[38;5;21;01mmatplotlib\u001b[39;00m\u001b[38;5;21;01m.\u001b[39;00m\u001b[38;5;21;01m_enums\u001b[39;00m \u001b[38;5;28;01mimport\u001b[39;00m JoinStyle, CapStyle\n",
      "File \u001b[1;32m~\\anaconda3\\envs\\pandas_playground\\Lib\\site-packages\\matplotlib\\colors.py:52\u001b[0m\n\u001b[0;32m     49\u001b[0m \u001b[38;5;28;01mfrom\u001b[39;00m \u001b[38;5;21;01mnumbers\u001b[39;00m \u001b[38;5;28;01mimport\u001b[39;00m Real\n\u001b[0;32m     50\u001b[0m \u001b[38;5;28;01mimport\u001b[39;00m \u001b[38;5;21;01mre\u001b[39;00m\n\u001b[1;32m---> 52\u001b[0m \u001b[38;5;28;01mfrom\u001b[39;00m \u001b[38;5;21;01mPIL\u001b[39;00m \u001b[38;5;28;01mimport\u001b[39;00m Image\n\u001b[0;32m     53\u001b[0m \u001b[38;5;28;01mfrom\u001b[39;00m \u001b[38;5;21;01mPIL\u001b[39;00m\u001b[38;5;21;01m.\u001b[39;00m\u001b[38;5;21;01mPngImagePlugin\u001b[39;00m \u001b[38;5;28;01mimport\u001b[39;00m PngInfo\n\u001b[0;32m     55\u001b[0m \u001b[38;5;28;01mimport\u001b[39;00m \u001b[38;5;21;01mmatplotlib\u001b[39;00m \u001b[38;5;28;01mas\u001b[39;00m \u001b[38;5;21;01mmpl\u001b[39;00m\n",
      "File \u001b[1;32m~\\anaconda3\\envs\\pandas_playground\\Lib\\site-packages\\PIL\\Image.py:88\u001b[0m\n\u001b[0;32m     79\u001b[0m MAX_IMAGE_PIXELS: \u001b[38;5;28mint\u001b[39m \u001b[38;5;241m|\u001b[39m \u001b[38;5;28;01mNone\u001b[39;00m \u001b[38;5;241m=\u001b[39m \u001b[38;5;28mint\u001b[39m(\u001b[38;5;241m1024\u001b[39m \u001b[38;5;241m*\u001b[39m \u001b[38;5;241m1024\u001b[39m \u001b[38;5;241m*\u001b[39m \u001b[38;5;241m1024\u001b[39m \u001b[38;5;241m/\u001b[39m\u001b[38;5;241m/\u001b[39m \u001b[38;5;241m4\u001b[39m \u001b[38;5;241m/\u001b[39m\u001b[38;5;241m/\u001b[39m \u001b[38;5;241m3\u001b[39m)\n\u001b[0;32m     82\u001b[0m \u001b[38;5;28;01mtry\u001b[39;00m:\n\u001b[0;32m     83\u001b[0m     \u001b[38;5;66;03m# If the _imaging C module is not present, Pillow will not load.\u001b[39;00m\n\u001b[0;32m     84\u001b[0m     \u001b[38;5;66;03m# Note that other modules should not refer to _imaging directly;\u001b[39;00m\n\u001b[0;32m     85\u001b[0m     \u001b[38;5;66;03m# import Image and use the Image.core variable instead.\u001b[39;00m\n\u001b[0;32m     86\u001b[0m     \u001b[38;5;66;03m# Also note that Image.core is not a publicly documented interface,\u001b[39;00m\n\u001b[0;32m     87\u001b[0m     \u001b[38;5;66;03m# and should be considered private and subject to change.\u001b[39;00m\n\u001b[1;32m---> 88\u001b[0m     \u001b[38;5;28;01mfrom\u001b[39;00m \u001b[38;5;21;01m.\u001b[39;00m \u001b[38;5;28;01mimport\u001b[39;00m _imaging \u001b[38;5;28;01mas\u001b[39;00m core\n\u001b[0;32m     90\u001b[0m     \u001b[38;5;28;01mif\u001b[39;00m __version__ \u001b[38;5;241m!=\u001b[39m \u001b[38;5;28mgetattr\u001b[39m(core, \u001b[38;5;124m\"\u001b[39m\u001b[38;5;124mPILLOW_VERSION\u001b[39m\u001b[38;5;124m\"\u001b[39m, \u001b[38;5;28;01mNone\u001b[39;00m):\n\u001b[0;32m     91\u001b[0m         msg \u001b[38;5;241m=\u001b[39m (\n\u001b[0;32m     92\u001b[0m             \u001b[38;5;124m\"\u001b[39m\u001b[38;5;124mThe _imaging extension was built for another version of Pillow or PIL:\u001b[39m\u001b[38;5;130;01m\\n\u001b[39;00m\u001b[38;5;124m\"\u001b[39m\n\u001b[0;32m     93\u001b[0m             \u001b[38;5;124mf\u001b[39m\u001b[38;5;124m\"\u001b[39m\u001b[38;5;124mCore version: \u001b[39m\u001b[38;5;132;01m{\u001b[39;00m\u001b[38;5;28mgetattr\u001b[39m(core,\u001b[38;5;250m \u001b[39m\u001b[38;5;124m'\u001b[39m\u001b[38;5;124mPILLOW_VERSION\u001b[39m\u001b[38;5;124m'\u001b[39m,\u001b[38;5;250m \u001b[39m\u001b[38;5;28;01mNone\u001b[39;00m)\u001b[38;5;132;01m}\u001b[39;00m\u001b[38;5;130;01m\\n\u001b[39;00m\u001b[38;5;124m\"\u001b[39m\n\u001b[0;32m     94\u001b[0m             \u001b[38;5;124mf\u001b[39m\u001b[38;5;124m\"\u001b[39m\u001b[38;5;124mPillow version: \u001b[39m\u001b[38;5;132;01m{\u001b[39;00m__version__\u001b[38;5;132;01m}\u001b[39;00m\u001b[38;5;124m\"\u001b[39m\n\u001b[0;32m     95\u001b[0m         )\n",
      "\u001b[1;31mImportError\u001b[0m: DLL load failed while importing _imaging: The specified module could not be found."
     ]
    }
   ],
   "source": [
    "import pandas as pd\n",
    "import seaborn as sns\n",
    "import matplotlib.pyplot as plt\n",
    "import numpy as np\n",
    "pd.option_context('mode.use_inf_as_na', True)"
   ]
  },
  {
   "cell_type": "markdown",
   "id": "009b7a17-d51f-489a-b0f1-45f89af9bc72",
   "metadata": {},
   "source": [
    "# Preprocessing (Check shape, missing and duplicate values):"
   ]
  },
  {
   "cell_type": "code",
   "execution_count": null,
   "id": "b0e222f0-cb42-48e0-8091-a6cb5ee60d2f",
   "metadata": {
    "tags": []
   },
   "outputs": [],
   "source": [
    "path = r\"C:\\Users\\kunbo\\OneDrive\\1. Học tập\\Unigap - DAC\\Machine Learning Module\\Project\\Final\\final project\\churn_prediction.xlsx\"\n",
    "df = pd.read_excel(path)"
   ]
  },
  {
   "cell_type": "markdown",
   "id": "e65657db-35c1-410d-964c-8e9e488b99a9",
   "metadata": {},
   "source": [
    "## Check first 5 rows:"
   ]
  },
  {
   "cell_type": "code",
   "execution_count": null,
   "id": "50974396-5aa4-44be-b08f-f93135e13ac3",
   "metadata": {
    "tags": []
   },
   "outputs": [],
   "source": [
    "df.head()"
   ]
  },
  {
   "cell_type": "markdown",
   "id": "f9eafe10-6d2c-4a65-8a3c-c360cab804bf",
   "metadata": {},
   "source": [
    "## Check last 5 rows:"
   ]
  },
  {
   "cell_type": "code",
   "execution_count": null,
   "id": "55eb86bd-e777-46b9-a963-4ac1996d6b52",
   "metadata": {
    "tags": []
   },
   "outputs": [],
   "source": [
    "df.tail()"
   ]
  },
  {
   "cell_type": "markdown",
   "id": "3ce0590a-e4dd-4e87-8a8f-d73318843081",
   "metadata": {},
   "source": [
    "## Check dataset information:"
   ]
  },
  {
   "cell_type": "code",
   "execution_count": null,
   "id": "9769993c-d587-46e1-b41d-255e04c6b810",
   "metadata": {
    "tags": []
   },
   "outputs": [],
   "source": [
    "df.info()"
   ]
  },
  {
   "cell_type": "markdown",
   "id": "98286e41-4424-4b1b-a12d-4f9c875f29d4",
   "metadata": {},
   "source": [
    "## Check imbalance data"
   ]
  },
  {
   "cell_type": "code",
   "execution_count": null,
   "id": "07e21b3f-6270-44b7-82b9-693ddab8a531",
   "metadata": {
    "tags": []
   },
   "outputs": [],
   "source": [
    "distribute = df.groupby('Churn', as_index=False)['Churn'].count()\n",
    "distribute['%'] = distribute['Churn'] / len(df) * 100\n",
    "distribute"
   ]
  },
  {
   "cell_type": "markdown",
   "id": "a2518b3a-8b0d-4b4f-822d-9c7d239c9773",
   "metadata": {},
   "source": [
    "- Tỉ lệ được phân bổ tốt, không cần thực hiện resample"
   ]
  },
  {
   "cell_type": "markdown",
   "id": "9ae6949b-2264-4543-80f4-cf03cd0a8703",
   "metadata": {},
   "source": [
    "## Check duplicated values"
   ]
  },
  {
   "cell_type": "code",
   "execution_count": null,
   "id": "aace0c42-f347-42bd-86ee-4cb3392e2370",
   "metadata": {
    "tags": []
   },
   "outputs": [],
   "source": [
    "df.duplicated().sum()"
   ]
  },
  {
   "cell_type": "markdown",
   "id": "3f06bb04-3379-4bb1-bc9b-7ae42c409ed1",
   "metadata": {
    "tags": []
   },
   "source": [
    "## Count null values and solve it if have:"
   ]
  },
  {
   "cell_type": "code",
   "execution_count": null,
   "id": "577278c7-fb8c-487d-9991-adc6c49a1e2c",
   "metadata": {
    "tags": []
   },
   "outputs": [],
   "source": [
    "null_count=df.isna().sum().sum()\n",
    "print(f'% Missing values vs total observations is: {null_count}/{len(df)} ~ {null_count / len(df)*100:.2f}%')"
   ]
  },
  {
   "cell_type": "code",
   "execution_count": null,
   "id": "0079777b-16e8-4cbb-9892-f35e8700681c",
   "metadata": {
    "tags": []
   },
   "outputs": [],
   "source": [
    "df.isna().sum().sort_values(ascending=False)"
   ]
  },
  {
   "cell_type": "markdown",
   "id": "a25c49d2-ab12-42c3-998b-0853b1c0618e",
   "metadata": {},
   "source": [
    "\\\n",
    "**_Only Numeric columns have null values_**"
   ]
  },
  {
   "cell_type": "markdown",
   "id": "9dbc4acb-f08d-4443-a383-5e87e19ffd02",
   "metadata": {},
   "source": [
    "### Fill null values with interpolate with _linear_ method"
   ]
  },
  {
   "cell_type": "code",
   "execution_count": null,
   "id": "724149c3-2e85-4346-bd2d-e790f5e0cd3a",
   "metadata": {
    "tags": []
   },
   "outputs": [],
   "source": [
    "new_df = df.interpolate()\n",
    "new_df.isna().sum().sum()"
   ]
  },
  {
   "cell_type": "code",
   "execution_count": null,
   "id": "84102d97-4d2d-464e-a598-cef9da5aef39",
   "metadata": {
    "tags": []
   },
   "outputs": [],
   "source": [
    "new_df.head()"
   ]
  },
  {
   "cell_type": "markdown",
   "id": "71434966-e7dd-4c7a-a0ae-1fc9904fede6",
   "metadata": {},
   "source": [
    "### Separate String and Numeric columns"
   ]
  },
  {
   "cell_type": "code",
   "execution_count": null,
   "id": "491b86c9-aea7-4709-bb0a-a769622ed4b9",
   "metadata": {
    "tags": []
   },
   "outputs": [],
   "source": [
    "cat_cols = []\n",
    "num_cols = []\n",
    "\n",
    "for col in new_df.columns:\n",
    "    if new_df[col].dtype == 'object':\n",
    "        cat_cols.append(col)\n",
    "    else:\n",
    "        num_cols.append(col)"
   ]
  },
  {
   "cell_type": "code",
   "execution_count": null,
   "id": "8dec404a-d02d-45c1-95aa-3e53fda98e0c",
   "metadata": {
    "tags": []
   },
   "outputs": [],
   "source": [
    "print(f'Type of this varible is: {type(cat_cols)} \\n {cat_cols}')\n",
    "print(f'Type of this varible is: {type(num_cols)} \\n {num_cols}')"
   ]
  },
  {
   "cell_type": "markdown",
   "id": "0cb7ee71-2364-437f-b04e-8205133280bb",
   "metadata": {},
   "source": [
    "## Import Machine Learning Library"
   ]
  },
  {
   "cell_type": "code",
   "execution_count": null,
   "id": "245a2240-0a1c-4ae5-ad25-e9ed494180f8",
   "metadata": {
    "tags": []
   },
   "outputs": [],
   "source": [
    "from sklearn.compose import make_column_transformer\n",
    "from sklearn.preprocessing import OneHotEncoder, StandardScaler\n",
    "from sklearn.tree import DecisionTreeClassifier\n",
    "from sklearn.linear_model import LogisticRegression\n",
    "from sklearn.neighbors import KNeighborsClassifier\n",
    "from sklearn.pipeline import make_pipeline, Pipeline\n",
    "from sklearn.model_selection import cross_val_score, KFold, train_test_split"
   ]
  },
  {
   "cell_type": "markdown",
   "id": "15e80c72-63d9-40e9-8897-75cadcf044b7",
   "metadata": {},
   "source": [
    "### Covert String datatype to binary"
   ]
  },
  {
   "cell_type": "code",
   "execution_count": null,
   "id": "546051ef-8811-47c5-bd74-a270ef5dfc33",
   "metadata": {
    "tags": []
   },
   "outputs": [],
   "source": [
    "dummies_df = pd.get_dummies(new_df, dtype='int64')\n",
    "dummies_df"
   ]
  },
  {
   "cell_type": "markdown",
   "id": "fda6d07b-8ddc-4fc9-a768-602e0cf5ef85",
   "metadata": {},
   "source": [
    "### Separate Independent and Dependent Features"
   ]
  },
  {
   "cell_type": "code",
   "execution_count": null,
   "id": "1c73a83d-010b-4935-b15b-0168b004dbad",
   "metadata": {
    "tags": []
   },
   "outputs": [],
   "source": [
    "X = dummies_df.drop('Churn', axis=1)\n",
    "y = dummies_df.Churn\n",
    "\n",
    "print(X.shape, y.shape)"
   ]
  },
  {
   "cell_type": "code",
   "execution_count": null,
   "id": "23cf5f3e-9055-45cc-bfc6-e8179f98dbae",
   "metadata": {
    "tags": []
   },
   "outputs": [],
   "source": [
    "X_train, X_test, y_train, y_test = train_test_split(X, y, test_size=0.3, random_state=42)"
   ]
  },
  {
   "cell_type": "markdown",
   "id": "997812d1-2a78-408c-869b-608f60d74053",
   "metadata": {},
   "source": [
    "### Scale Numeric Data to same scale"
   ]
  },
  {
   "cell_type": "code",
   "execution_count": null,
   "id": "37ebf6e7-08b3-41ff-a315-9690757a129a",
   "metadata": {
    "tags": []
   },
   "outputs": [],
   "source": [
    "scaler = StandardScaler()\n",
    "X_train_scaled = scaler.fit_transform(X_train)\n",
    "X_test_scaled = scaler.transform(X_test)"
   ]
  },
  {
   "cell_type": "code",
   "execution_count": null,
   "id": "7d71ff67-9c1b-4b96-9b64-60a502653dc4",
   "metadata": {
    "tags": []
   },
   "outputs": [],
   "source": [
    "clf = DecisionTreeClassifier(max_depth=16, random_state=42)\n",
    "clf.fit(X_train_scaled, y_train)\n",
    "y_pred = clf.predict(X_test_scaled)"
   ]
  },
  {
   "cell_type": "markdown",
   "id": "8dbc1b17-fffb-4407-84fc-d245ebaaa4a0",
   "metadata": {},
   "source": [
    "### Using Decision Tree model too pick important features for EDA process and modeling after:"
   ]
  },
  {
   "cell_type": "code",
   "execution_count": null,
   "id": "07a7ed61-ce7d-476d-8b9b-3ad55895139e",
   "metadata": {
    "tags": []
   },
   "outputs": [],
   "source": [
    "# Get feature importances\n",
    "importances = clf.feature_importances_\n",
    " \n",
    "# Select features with importance greater than a threshold\n",
    "threshold = 0.06  # Adjust as needed\n",
    "selected_features = X.columns[importances > threshold]\n",
    " \n",
    "# Use only the selected features\n",
    "X_train_selected = X_train[selected_features]\n",
    "X_test_selected = X_test[selected_features]\n",
    "\n",
    "X_train_selected.head()"
   ]
  },
  {
   "cell_type": "code",
   "execution_count": null,
   "id": "1b78c76a-b763-4566-b82d-cf1397868e12",
   "metadata": {
    "tags": []
   },
   "outputs": [],
   "source": [
    "importances"
   ]
  },
  {
   "cell_type": "code",
   "execution_count": null,
   "id": "8d5f16fd-dbc2-4aa7-bc32-5428f9f4582c",
   "metadata": {
    "tags": []
   },
   "outputs": [],
   "source": [
    "X_train_scaled.shape\n",
    "y_train.shape"
   ]
  },
  {
   "cell_type": "markdown",
   "id": "cf369aa5-bff3-494b-b94c-201f68079590",
   "metadata": {},
   "source": [
    "# Start EDA by features picked from above process:"
   ]
  },
  {
   "cell_type": "code",
   "execution_count": null,
   "id": "e0ae6bfc-4793-460a-b410-0daad15f48e5",
   "metadata": {
    "tags": []
   },
   "outputs": [],
   "source": [
    "important_features = ['Tenure', 'DaySinceLastOrder', 'CashbackAmount', 'Churn']\n",
    "\n",
    "eda_df = new_df[important_features].copy()"
   ]
  },
  {
   "cell_type": "code",
   "execution_count": null,
   "id": "efe954ba-fe35-4384-869d-8a4e156a7214",
   "metadata": {
    "tags": []
   },
   "outputs": [],
   "source": [
    "eda_df.groupby('Churn').agg({'Tenure': 'mean', 'DaySinceLastOrder': 'mean', 'CashbackAmount':'mean'})"
   ]
  },
  {
   "cell_type": "markdown",
   "id": "3261703e-be97-48be-8c51-c019fa1e7b31",
   "metadata": {},
   "source": [
    "## Correlation:"
   ]
  },
  {
   "cell_type": "code",
   "execution_count": null,
   "id": "b3365b77-b02d-4e76-b3d8-27c30491e216",
   "metadata": {
    "tags": []
   },
   "outputs": [],
   "source": [
    "ax = sns.heatmap(eda_df.corr(), annot=True)\n",
    "ax.set_xticklabels(ax.get_xticklabels(), rotation=45)\n",
    "plt.show()"
   ]
  },
  {
   "cell_type": "markdown",
   "id": "fcdfbdf4-8c56-4045-ab15-dc775cb20bcd",
   "metadata": {},
   "source": [
    "- Correlation cho thấy những khách hàng có thời gian gắn bó càng dài, Recency cao và CashBackAmout lớn sẽ có tỉ lệ rời bỏ thấp hơn"
   ]
  },
  {
   "cell_type": "markdown",
   "id": "da7fd1c5-6776-472a-a4cc-f485c95034e3",
   "metadata": {
    "tags": []
   },
   "source": [
    "## Visualize each variables"
   ]
  },
  {
   "cell_type": "code",
   "execution_count": null,
   "id": "1887075d-5071-4ac8-8d7b-32b1f5236190",
   "metadata": {
    "tags": []
   },
   "outputs": [],
   "source": [
    "ax = eda_df['Tenure'].value_counts() \\\n",
    "                .head(10) \\\n",
    "                .plot(kind='bar', title='Top 10 Tenure')\n",
    "ax.set_ylabel('Count')\n",
    "plt.show()"
   ]
  },
  {
   "cell_type": "code",
   "execution_count": null,
   "id": "7dc3e535-5a4d-4085-9dab-389d500a8536",
   "metadata": {
    "tags": []
   },
   "outputs": [],
   "source": [
    "ax = eda_df['DaySinceLastOrder'].plot(kind='hist', bins=30, title='Recency')\n",
    "ax.set_xlabel('Day Since Last Order')\n",
    "plt.show()"
   ]
  },
  {
   "cell_type": "code",
   "execution_count": null,
   "id": "2e8773d3-4976-49e4-b0f7-f5312187d342",
   "metadata": {
    "tags": []
   },
   "outputs": [],
   "source": [
    "ax = eda_df['CashbackAmount'].plot(kind='hist', bins=20, title='Cashback Amout Distribute')\n",
    "ax.set_xlabel('Cashback Amount')\n",
    "plt.show()"
   ]
  },
  {
   "cell_type": "markdown",
   "id": "4e4e3223-f5af-4654-a438-57573df5800d",
   "metadata": {
    "tags": []
   },
   "source": [
    "### Churn rate by Tenure"
   ]
  },
  {
   "cell_type": "code",
   "execution_count": null,
   "id": "991e7daf-cb0b-4f6d-a38c-681abbefaee7",
   "metadata": {
    "tags": []
   },
   "outputs": [],
   "source": [
    "churn_rate = eda_df.query('Churn == 1').groupby(['Tenure'], as_index=False)['Churn'].count().sort_values(by='Tenure')\n",
    "\n",
    "churn_rate['perc'] = (churn_rate['Churn'] / churn_rate['Churn'].sum() * 100).round(2)\n",
    "\n",
    "# ax = churn_rate.query('perc > 1.75').loc[:, ['Tenure', 'perc']].set_index('Tenure').plot(kind='bar', title='')\n",
    "ax = churn_rate.loc[:, ['Tenure', 'perc']].sort_values(by='perc', ascending=False).head(10).set_index('Tenure').plot(kind='bar', title='Top 10 tenure with highest churn rate')\n",
    "ax.set_xticklabels(ax.get_xticklabels(), rotation=0)\n",
    "ax.bar_label(container=ax.containers[0])\n",
    "ax.set_ylabel('%')\n",
    "\n",
    "plt.show()"
   ]
  },
  {
   "cell_type": "code",
   "execution_count": null,
   "id": "2e08f9e2-c286-4614-918f-0fa87f2d219c",
   "metadata": {
    "tags": []
   },
   "outputs": [],
   "source": [
    "ax = eda_df.query('Churn == 1') \\\n",
    "           .groupby(['Tenure'], as_index=False)['Churn'] \\\n",
    "           .count().sort_values(by='Tenure') \\\n",
    "           .query('Churn > 10') \\\n",
    "           .set_index('Tenure') \\\n",
    "           .plot(kind='bar', title='Churn distribute by Tenure')\n",
    "\n",
    "ax.set_xticklabels(ax.get_xticklabels(), rotation=45)\n",
    "ax.bar_label(container=ax.containers[0])\n",
    "ax.set_ylabel('Count')\n",
    "plt.show()"
   ]
  },
  {
   "cell_type": "markdown",
   "id": "3b8067c0-28c2-48cc-bd45-de5aaa3696c6",
   "metadata": {
    "tags": []
   },
   "source": [
    "## Relationship between variables:"
   ]
  },
  {
   "cell_type": "code",
   "execution_count": null,
   "id": "2205ecd0-4fb2-457b-866d-b5527026363b",
   "metadata": {
    "tags": []
   },
   "outputs": [],
   "source": [
    "eda_df['Tenure'] = eda_df['Tenure'].round(2)"
   ]
  },
  {
   "cell_type": "code",
   "execution_count": null,
   "id": "cffeeacc-cac2-4d05-bb95-9f1e293291da",
   "metadata": {
    "tags": []
   },
   "outputs": [],
   "source": [
    "ax = sns.scatterplot(x='Tenure', y='CashbackAmount', data=eda_df)\n",
    "plt.show()"
   ]
  },
  {
   "cell_type": "code",
   "execution_count": null,
   "id": "6513cf41-e0d6-4710-8494-817156a1aaa4",
   "metadata": {
    "tags": []
   },
   "outputs": [],
   "source": [
    "sns.scatterplot(x='Tenure', y='DaySinceLastOrder', data=eda_df)\n",
    "plt.show()"
   ]
  },
  {
   "cell_type": "code",
   "execution_count": null,
   "id": "7e2b15cb-d45a-4a9c-a7ba-31b2093b97d4",
   "metadata": {
    "tags": []
   },
   "outputs": [],
   "source": [
    "sns.scatterplot(x='CashbackAmount', y='DaySinceLastOrder', data=eda_df)\n",
    "plt.show()"
   ]
  },
  {
   "cell_type": "code",
   "execution_count": null,
   "id": "311ed06f-6f21-4d75-b72e-581db7cd782e",
   "metadata": {
    "tags": []
   },
   "outputs": [],
   "source": [
    "# ax = eda_df.query('Tenure != 0 and DaySinceLastOrder != 0') \\\n",
    "ax= eda_df.groupby(['Tenure'])['CashbackAmount'].mean() \\\n",
    "    .head(5) \\\n",
    "    .plot(kind='bar')\n",
    "\n",
    "ax.set_ylabel('Average Cashback Amount by Tenure')\n",
    "ax.set_xticklabels(ax.get_xticklabels(), rotation=45)\n",
    "\n",
    "plt.show()"
   ]
  },
  {
   "cell_type": "markdown",
   "id": "d4276f67-a082-4737-a04f-93adca830b8b",
   "metadata": {},
   "source": [
    "\n",
    "\n",
    "\n",
    "\n",
    "## EDA Conclusion\n",
    "\n",
    "- Những khách hàng lâu năm (thể hiện bởi high Tenure) có tỉ lệ rời bỏ thấp hơn.\n",
    "- Bên cạnh tỉ lệ giao dịch thường xuyên và cashback amount cũng góp phần giữ khách hàng ở lại và làm giảm tỉ lệ rời bỏ\n",
    "- Khách hàng thường có xu hướng rời bỏ trong 1 năm đầu tiên. **(Chiếm >65% total churn của dataset)**\n",
    "\n",
    "--- \n",
    "- Summary:\n",
    "    - Cần tập trung chăm sóc những khách hàng mới để giảm tỉ lệ rời bỏ trong 1 năm đầu\n",
    "    - Đa đạng hóa các chương trình cashback amount, và các chương trình những chương trình ưu đãi khác như các chương trình kỷ niệm 1 năm tính từ ngày có giao dịch đầu tiên\n",
    "    - Thường xuyên tương tác và nhắc khách quay lại mua hàng định kỳ. Qua đó giảm tỉ lệ rời bỏ."
   ]
  },
  {
   "cell_type": "markdown",
   "id": "b1314509-754f-4a48-9dcc-a96409e0e78f",
   "metadata": {},
   "source": [
    "---"
   ]
  },
  {
   "cell_type": "markdown",
   "id": "212eee0a-a1c2-42be-b398-3f922f995d72",
   "metadata": {},
   "source": [
    "# Apply Machine Learning Model:"
   ]
  },
  {
   "cell_type": "code",
   "execution_count": null,
   "id": "3eb193c1-5980-424d-b49a-ac95a65b712a",
   "metadata": {
    "tags": []
   },
   "outputs": [],
   "source": [
    "# columns_trans = make_column_transformer(\n",
    "#     (OneHotEncoder(), cat_cols), remainder='passthrough')\n",
    "\n",
    "# columns_trans = make_column_transformer((StandardScaler(), num_cols), remainder='passthrough')\n",
    "\n",
    "logreg = LogisticRegression(random_state=99)\n",
    "dtc = DecisionTreeClassifier(max_depth=16, random_state=42)"
   ]
  },
  {
   "cell_type": "code",
   "execution_count": null,
   "id": "74de8266-af50-431f-8cca-8ec8392e2765",
   "metadata": {
    "tags": []
   },
   "outputs": [],
   "source": [
    "pipe = Pipeline(steps=[('classifier', dtc)])"
   ]
  },
  {
   "cell_type": "code",
   "execution_count": null,
   "id": "f06535dd-4d04-4244-8c12-be38764ee497",
   "metadata": {
    "tags": []
   },
   "outputs": [],
   "source": [
    "full_features_model = cross_val_score(pipe, X_train_scaled,\n",
    "                                      y_train, cv=10, scoring='accuracy',\n",
    "                                      error_score='raise').mean()\n",
    "full_features_model"
   ]
  },
  {
   "cell_type": "code",
   "execution_count": null,
   "id": "741bc4f2-59f8-4899-bd34-50c691c51cd1",
   "metadata": {
    "tags": []
   },
   "outputs": [],
   "source": [
    "important_features_model = cross_val_score(pipe, X_train_selected,\n",
    "                                           y_train, cv=10, scoring='accuracy',\n",
    "                                           error_score='raise').mean()\n",
    "important_features_model"
   ]
  },
  {
   "cell_type": "markdown",
   "id": "5df66bd7-69fb-4bd4-882e-f5a3da58cbf0",
   "metadata": {
    "tags": []
   },
   "source": [
    "## Evaluating classification models"
   ]
  },
  {
   "cell_type": "markdown",
   "id": "c95271a4-1e25-49c2-bb03-9c88a9504904",
   "metadata": {
    "tags": []
   },
   "source": [
    "### Full Features Dataset"
   ]
  },
  {
   "cell_type": "code",
   "execution_count": null,
   "id": "c633c524-7b2f-4c55-a646-65aa52148891",
   "metadata": {
    "tags": []
   },
   "outputs": [],
   "source": [
    "models = {\"Logistic Regression\": LogisticRegression(random_state=42), \n",
    "          \"KNN\": KNeighborsClassifier(),\n",
    "          \"Decision Tree\": DecisionTreeClassifier(random_state=42)}\n",
    "full_features_results = []\n",
    "\n",
    "for model in models.values():\n",
    "    kf = KFold(n_splits=10, random_state=42, shuffle=True)\n",
    "    cv_results = cross_val_score(model, X_train_scaled, y_train, cv=kf)\n",
    "    full_features_results.append(cv_results)\n",
    "\n",
    "plt.boxplot(full_features_results, labels=models.keys())\n",
    "plt.show()"
   ]
  },
  {
   "cell_type": "code",
   "execution_count": null,
   "id": "c04112ef-4e23-47e9-96a6-5c5b965989a2",
   "metadata": {
    "tags": []
   },
   "outputs": [],
   "source": [
    "for name, model in models.items():\n",
    "    model.fit(X_train_scaled, y_train)\n",
    "    test_score = model.score(X_test_scaled, y_test)\n",
    "    print(f\"{name} Test Set Accuracy: {test_score*100:.2f}%\")"
   ]
  },
  {
   "cell_type": "markdown",
   "id": "3c7d3090-2988-46cc-b0f0-f6568ccdcdfe",
   "metadata": {},
   "source": [
    "----"
   ]
  },
  {
   "cell_type": "markdown",
   "id": "17e900f4-4aa3-497f-984d-8ca1496142a5",
   "metadata": {},
   "source": [
    "\n",
    "### Important Features Model Results"
   ]
  },
  {
   "cell_type": "code",
   "execution_count": null,
   "id": "fc018958-9d9f-4237-91e3-8b8b84b4a97f",
   "metadata": {
    "tags": []
   },
   "outputs": [],
   "source": [
    "models = {\"Logistic Regression\": LogisticRegression(random_state=42), \n",
    "          \"KNN\": KNeighborsClassifier(),\n",
    "          \"Decision Tree\": DecisionTreeClassifier(random_state=42)}\n",
    "important_features_results = []\n",
    "\n",
    "for model in models.values():\n",
    "    kf = KFold(n_splits=10, random_state=42, shuffle=True)\n",
    "    cv_results = cross_val_score(model, X_train_selected, y_train, cv=kf)\n",
    "    important_features_results.append(cv_results)\n",
    "\n",
    "plt.boxplot(important_features_results, labels=models.keys())\n",
    "plt.show()"
   ]
  },
  {
   "cell_type": "code",
   "execution_count": null,
   "id": "a5c77550-6b40-4bc1-955f-c5455ca531a2",
   "metadata": {
    "tags": []
   },
   "outputs": [],
   "source": [
    "for name, model in models.items():\n",
    "    model.fit(X_train_selected, y_train)\n",
    "    test_score = model.score(X_test_selected, y_test)\n",
    "    print(f\"{name} Test Set Accuracy: {test_score*100:.2f}%\")"
   ]
  }
 ],
 "metadata": {
  "kernelspec": {
   "display_name": "Python 3 (ipykernel)",
   "language": "python",
   "name": "python3"
  },
  "language_info": {
   "codemirror_mode": {
    "name": "ipython",
    "version": 3
   },
   "file_extension": ".py",
   "mimetype": "text/x-python",
   "name": "python",
   "nbconvert_exporter": "python",
   "pygments_lexer": "ipython3",
   "version": "3.12.4"
  },
  "toc-autonumbering": true
 },
 "nbformat": 4,
 "nbformat_minor": 5
}
